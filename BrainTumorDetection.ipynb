{
 "cells": [
  {
   "cell_type": "markdown",
   "metadata": {},
   "source": [
    "# Assignment 1: TKO_7096-3001 Computer Vision and Sensor Fusion\n"
   ]
  },
  {
   "cell_type": "markdown",
   "metadata": {},
   "source": [
    "In this exercise you will implement a CNN model for a binary image classification problem and understand the effect of image augmentation on the model performance.\n",
    "\n",
    "First read the \"Assignment1.pdf\" file carefully. \n",
    "\n",
    "#  <span style=\"color:red\"> Deadline: 03.02.2023 at 24:00.</span>"
   ]
  },
  {
   "cell_type": "markdown",
   "metadata": {},
   "source": [
    "# Import Packages\n",
    "Import all the packages needed for this notebook in one cell"
   ]
  },
  {
   "cell_type": "code",
   "execution_count": null,
   "metadata": {},
   "outputs": [],
   "source": []
  },
  {
   "cell_type": "markdown",
   "metadata": {},
   "source": [
    "It is better to use the CPU for these assignments because it takes time to set all the system up, but if you feel adventurous you can set the GPU on changing the variable NOGPU to False. "
   ]
  },
  {
   "cell_type": "code",
   "execution_count": null,
   "metadata": {},
   "outputs": [],
   "source": [
    "NOGPU= True\n",
    "if NOGPU:\n",
    "    os.environ[\"CUDA_VISIBLE_DEVICES\"]=\"-1\"\n",
    "else:\n",
    "    physical_devices = tf.config.experimental.list_physical_devices('GPU')\n",
    "    assert len(physical_devices) > 0, \"Not enough GPU hardware devices available\"\n",
    "    for i in range(len(physical_devices)):\n",
    "        tf.config.experimental.set_memory_growth(physical_devices[i], True)\n",
    "\n",
    "\n",
    "print(f\"I am running tensorflow {tf.__version__}\")\n",
    "print(f\"Am I using GPUs {tf.config.list_physical_devices('GPU')}\")"
   ]
  },
  {
   "cell_type": "markdown",
   "metadata": {},
   "source": [
    "### Load the dataset ###\n",
    "- Resizing all images to (128,128)"
   ]
  },
  {
   "cell_type": "code",
   "execution_count": null,
   "metadata": {},
   "outputs": [],
   "source": []
  },
  {
   "cell_type": "markdown",
   "metadata": {},
   "source": [
    "- Split the data to train (80%) and test(20%) datasets with the train_test_split\n",
    "\n",
    "look here https://scikit-learn.org/stable/modules/generated/sklearn.model_selection.train_test_split.html"
   ]
  },
  {
   "cell_type": "code",
   "execution_count": null,
   "metadata": {},
   "outputs": [],
   "source": []
  },
  {
   "cell_type": "markdown",
   "metadata": {},
   "source": [
    "### 1- Define the base CNN model (2 points) :\n",
    "\n",
    "4 hidden layers where each layer consists of 1 Conv and 1 max pooling layer.  \n",
    "\n",
    "On the top of the layer,  there is a Fully connected layer and Relu activation function to classify the input image into one of the class.\n",
    "\n",
    "Recomended: (Filter size in Conv layer is (3, 3) and pool size is (2, 2))\n"
   ]
  },
  {
   "cell_type": "code",
   "execution_count": null,
   "metadata": {},
   "outputs": [],
   "source": []
  },
  {
   "cell_type": "markdown",
   "metadata": {},
   "source": [
    "### 2- Train the CNN model (1 point) :\n",
    "\n",
    "(a) Compile the model with Adam optimizer.\n",
    "\n",
    "(b) Train the model on the ”train” dataset and ”test” dataset for validation for epochs =10. \n",
    "\n",
    "(c) Plot the model accuracy for training and validation phases.\n"
   ]
  },
  {
   "cell_type": "code",
   "execution_count": null,
   "metadata": {},
   "outputs": [],
   "source": []
  },
  {
   "cell_type": "markdown",
   "metadata": {},
   "source": [
    "### 3- Evaluate the model on the training and test dataset (2 points) :\n",
    "\n",
    "The results must be shown as:\n",
    "\n",
    "\n",
    "(a) Print loss and accuracy of model for “train” and “test” datasets and compare their accuracy. \n",
    "\n",
    "(b) The predicted results (classification label) on 5 random example of test dataset. For each image shows the real and predicted labels.\n"
   ]
  },
  {
   "cell_type": "code",
   "execution_count": null,
   "metadata": {},
   "outputs": [],
   "source": []
  },
  {
   "cell_type": "markdown",
   "metadata": {},
   "source": [
    "What do you understand by comparing the training accuracy with validation accuracy? "
   ]
  },
  {
   "cell_type": "code",
   "execution_count": null,
   "metadata": {},
   "outputs": [],
   "source": []
  },
  {
   "cell_type": "markdown",
   "metadata": {},
   "source": [
    "### 4- Image augmentation  (2 points) :\n",
    "Train the same CNN model using image augmentation: \"augment\" the training dataset to contain more data. There are various transformations readily available in Keras, see this link for more information: (https://www.tensorflow.org/api_docs/python/tf/keras/preprocessing/image/ImageDataGenerator ). \n",
    "\n",
    "\n",
    "You use the following configurations to augment the train data:\n",
    "\n",
    "    - width_shift_range=2.6, \n",
    "    \n",
    "    - zoom_range = 0.15,\n",
    "    \n",
    "    - horizontal_flip= True \n"
   ]
  },
  {
   "cell_type": "code",
   "execution_count": null,
   "metadata": {},
   "outputs": [],
   "source": []
  },
  {
   "cell_type": "markdown",
   "metadata": {},
   "source": [
    "### 5-\tEvaluate the model with image augmentation (1 points) :\n",
    "Repeat above steps 2 & 3 and compare the results (with and without augmentation)"
   ]
  },
  {
   "cell_type": "code",
   "execution_count": null,
   "metadata": {},
   "outputs": [],
   "source": []
  },
  {
   "cell_type": "markdown",
   "metadata": {},
   "source": [
    "### 6- Try Dropout layer after each pooling layer of base CNN and explain how the performance is changed? (2 points)"
   ]
  },
  {
   "cell_type": "code",
   "execution_count": null,
   "metadata": {},
   "outputs": [],
   "source": []
  }
 ],
 "metadata": {
  "kernelspec": {
   "display_name": "Python 3",
   "language": "python",
   "name": "python3"
  },
  "language_info": {
   "codemirror_mode": {
    "name": "ipython",
    "version": 3
   },
   "file_extension": ".py",
   "mimetype": "text/x-python",
   "name": "python",
   "nbconvert_exporter": "python",
   "pygments_lexer": "ipython3",
   "version": "3.8.3"
  },
  "vscode": {
   "interpreter": {
    "hash": "9bba920ba161d63ef13bffc5f16d420fef43ee0884caf80697b5502ebf80351b"
   }
  }
 },
 "nbformat": 4,
 "nbformat_minor": 2
}
